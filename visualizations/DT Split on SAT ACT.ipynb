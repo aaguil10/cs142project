{
 "cells": [
  {
   "cell_type": "code",
   "execution_count": 1,
   "metadata": {
    "collapsed": true
   },
   "outputs": [],
   "source": [
    "%matplotlib inline\n",
    "import sys\n",
    "import string\n",
    "import numpy as np\n",
    "import pandas as pd\n",
    "import matplotlib.pyplot as plt\n",
    "import arff\n",
    "\n",
    "from sklearn import tree\n",
    "from sklearn import linear_model\n",
    "from sklearn.externals.six import StringIO  \n",
    "from IPython.core.display import Image\n",
    "\n",
    "import pydot"
   ]
  },
  {
   "cell_type": "markdown",
   "metadata": {},
   "source": [
    "# Load the Data"
   ]
  },
  {
   "cell_type": "code",
   "execution_count": 2,
   "metadata": {
    "collapsed": false
   },
   "outputs": [
    {
     "name": "stdout",
     "output_type": "stream",
     "text": [
      "['gender', 'Firgen', 'famincome', 'SATCRDG', 'SATMATH', 'SATWRTG', 'SATTotal', 'HSGPA', 'ACTRead', 'ACTMath', 'ACTEngWrit', 'APIScore', 'FirstLang', 'HSGPAunweighted']\n",
      "Number of examples: 2801\n",
      "Wall time: 125 ms\n"
     ]
    }
   ],
   "source": [
    "%%time\n",
    "gender = {'Male' : 0, 'Female' : 1, 'Unknown' : 2}\n",
    "language = {'English' : 0, 'EnglishandAnother' : 1, 'Another' : 2}\n",
    "\n",
    "trainfile = 'sample_data\\\\test05.arff'\n",
    "\n",
    "examples = []\n",
    "features = []\n",
    "labels = []\n",
    "\n",
    "with open(trainfile, 'rb') as af:\n",
    "    arffFile = arff.load(af)\n",
    "    # do not include college gpa and college credits\n",
    "    features = [arffFile['attributes'][0:-3][i][0].encode(\"ascii\") for i in range(len(arffFile['attributes'][0:-3]))]\n",
    "    data = arffFile['data']\n",
    "    a = features\n",
    "    print a\n",
    "    for row in data:\n",
    "        row[0] = gender[row[0]] # index of gender\n",
    "        row[12] = language[row[12]] # index of language\n",
    "        examples.append(row[0:-3]) # do not include number of credits taken first year\n",
    "        labels.append(row[-1])\n",
    "\n",
    "print 'Number of examples:', len(examples)"
   ]
  },
  {
   "cell_type": "code",
   "execution_count": 3,
   "metadata": {
    "collapsed": false
   },
   "outputs": [
    {
     "name": "stdout",
     "output_type": "stream",
     "text": [
      "['gender', 'Firgen', 'famincome', 'SATCRDG', 'SATMATH', 'SATWRTG', 'SATTotal', 'HSGPA', 'APIScore', 'FirstLang', 'HSGPAunweighted'] ['gender', 'Firgen', 'famincome', 'HSGPA', 'ACTRead', 'ACTMath', 'ACTEngWrit', 'APIScore', 'FirstLang', 'HSGPAunweighted']\n",
      "Wall time: 0 ns\n"
     ]
    }
   ],
   "source": [
    "%%time\n",
    "# split examples on SAT and ACT\n",
    "examplesSAT = []\n",
    "examplesACT = []\n",
    "featuresSAT = features[0:8]\n",
    "featuresSAT.extend(features[11:])\n",
    "featuresACT = features[0:3]\n",
    "featuresACT.extend(features[7:])\n",
    "for x in examples:\n",
    "    sat = x[0:8]\n",
    "    sat.extend(x[11:])\n",
    "    examplesSAT.append(sat)\n",
    "    act = x[0:3]\n",
    "    act.extend(x[7:])\n",
    "    examplesACT.append(act)\n",
    "\n",
    "print featuresSAT, featuresACT"
   ]
  },
  {
   "cell_type": "markdown",
   "metadata": {},
   "source": [
    "# Fit Decision Tree"
   ]
  },
  {
   "cell_type": "code",
   "execution_count": 5,
   "metadata": {
    "collapsed": false
   },
   "outputs": [
    {
     "name": "stdout",
     "output_type": "stream",
     "text": [
      "DecisionTreeClassifier(class_weight=None, criterion='gini', max_depth=None,\n",
      "            max_features=None, max_leaf_nodes=None, min_samples_leaf=1,\n",
      "            min_samples_split=2, min_weight_fraction_leaf=0.0,\n",
      "            random_state=None, splitter='best')\n",
      "Wall time: 32 ms\n"
     ]
    }
   ],
   "source": [
    "%%time\n",
    "satTree = tree.DecisionTreeClassifier()\n",
    "satTree = satTree.fit(examplesSAT, labels)\n",
    "print satTree"
   ]
  },
  {
   "cell_type": "code",
   "execution_count": 6,
   "metadata": {
    "collapsed": false
   },
   "outputs": [
    {
     "name": "stdout",
     "output_type": "stream",
     "text": [
      "DecisionTreeClassifier(class_weight=None, criterion='gini', max_depth=None,\n",
      "            max_features=None, max_leaf_nodes=None, min_samples_leaf=1,\n",
      "            min_samples_split=2, min_weight_fraction_leaf=0.0,\n",
      "            random_state=None, splitter='best')\n",
      "Wall time: 20 ms\n"
     ]
    }
   ],
   "source": [
    "%%time\n",
    "actTree = tree.DecisionTreeClassifier()\n",
    "actTree = actTree.fit(examplesACT, labels)\n",
    "print actTree"
   ]
  },
  {
   "cell_type": "code",
   "execution_count": null,
   "metadata": {
    "collapsed": false
   },
   "outputs": [],
   "source": [
    "%%time\n",
    "dot_data = StringIO()\n",
    "tree.export_graphviz(satTree, out_file=dot_data, feature_names=featuresSAT) \n",
    "#tree.export_graphviz(dt, out_file=dot_data) \n",
    "graph = pydot.graph_from_dot_data(dot_data.getvalue()) \n",
    "treepng = graph.create_png()"
   ]
  },
  {
   "cell_type": "code",
   "execution_count": null,
   "metadata": {
    "collapsed": false
   },
   "outputs": [],
   "source": [
    "# SAT Tree\n",
    "Image(treepng)"
   ]
  },
  {
   "cell_type": "code",
   "execution_count": null,
   "metadata": {
    "collapsed": false
   },
   "outputs": [],
   "source": [
    "%%time\n",
    "with open('tree_SAT.png', 'wb') as f:\n",
    "    f.write(treepng)"
   ]
  },
  {
   "cell_type": "code",
   "execution_count": null,
   "metadata": {
    "collapsed": false
   },
   "outputs": [],
   "source": [
    "%%time\n",
    "dot_data = StringIO()\n",
    "tree.export_graphviz(actTree, out_file=dot_data, feature_names=featuresACT) \n",
    "#tree.export_graphviz(dt, out_file=dot_data) \n",
    "graph = pydot.graph_from_dot_data(dot_data.getvalue()) \n",
    "treepng = graph.create_png()"
   ]
  },
  {
   "cell_type": "code",
   "execution_count": null,
   "metadata": {
    "collapsed": false
   },
   "outputs": [],
   "source": [
    "# SAT Tree\n",
    "Image(treepng)"
   ]
  },
  {
   "cell_type": "code",
   "execution_count": null,
   "metadata": {
    "collapsed": false
   },
   "outputs": [],
   "source": [
    "%%time\n",
    "with open('tree_ACT.png', 'wb') as f:\n",
    "    f.write(treepng)"
   ]
  }
 ],
 "metadata": {
  "kernelspec": {
   "display_name": "Python 2",
   "language": "python",
   "name": "python2"
  },
  "language_info": {
   "codemirror_mode": {
    "name": "ipython",
    "version": 2
   },
   "file_extension": ".py",
   "mimetype": "text/x-python",
   "name": "python",
   "nbconvert_exporter": "python",
   "pygments_lexer": "ipython2",
   "version": "2.7.9"
  }
 },
 "nbformat": 4,
 "nbformat_minor": 0
}
