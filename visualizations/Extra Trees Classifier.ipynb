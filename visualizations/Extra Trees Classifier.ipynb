{
 "cells": [
  {
   "cell_type": "code",
   "execution_count": 1,
   "metadata": {
    "collapsed": false
   },
   "outputs": [
    {
     "name": "stdout",
     "output_type": "stream",
     "text": [
      "\n",
      "========================\n",
      "Plotting Learning Curves\n",
      "========================\n",
      "\n",
      "On the left side the learning curve of a naive Bayes classifier is shown for\n",
      "the digits dataset. Note that the training score and the cross-validation score\n",
      "are both not very good at the end. However, the shape of the curve can be found\n",
      "in more complex datasets very often: the training score is very high at the\n",
      "beginning and decreases and the cross-validation score is very low at the\n",
      "beginning and increases. On the right side we see the learning curve of an SVM\n",
      "with RBF kernel. We can see clearly that the training score is still around\n",
      "the maximum and the validation score could be increased with more training\n",
      "samples.\n",
      "\n"
     ]
    }
   ],
   "source": [
    "%matplotlib inline\n",
    "import sys\n",
    "import string\n",
    "import numpy as np\n",
    "import pandas as pd\n",
    "import matplotlib.pyplot as plt\n",
    "import arff\n",
    "import random\n",
    "\n",
    "from sklearn import tree\n",
    "from sklearn.ensemble import ExtraTreesClassifier\n",
    "from sklearn import linear_model\n",
    "from sklearn.externals.six import StringIO\n",
    "from sklearn.cross_validation import train_test_split\n",
    "from IPython.core.display import Image\n",
    "\n",
    "import pydot\n",
    "\n",
    "from plot_learning_curve import plot_learning_curve"
   ]
  },
  {
   "cell_type": "markdown",
   "metadata": {},
   "source": [
    "# Load Training Set"
   ]
  },
  {
   "cell_type": "code",
   "execution_count": 2,
   "metadata": {
    "collapsed": false
   },
   "outputs": [
    {
     "name": "stdout",
     "output_type": "stream",
     "text": [
      "Number of examples: 2755\n",
      "Features:  ['gender', 'Firgen', 'famincome', 'SATCRDG', 'SATMATH', 'SATWRTG', 'SATTotal', 'HSGPA', 'ACTRead', 'ACTMath', 'ACTEngWrit', 'APIScore', 'FirstLang', 'HSGPAunweighted']\n",
      "Wall time: 108 ms\n"
     ]
    }
   ],
   "source": [
    "%%time\n",
    "gender = {'Male' : 0, 'Female' : 1, 'Unknown' : 2}\n",
    "language = {'English' : 0, 'EnglishandAnother' : 1, 'Another' : 2}\n",
    "\n",
    "trainfile = 'sample_data\\\\train_subj_norm.arff'\n",
    "\n",
    "x_train = []\n",
    "x_trainSubnum = []\n",
    "features = []\n",
    "y_train = []\n",
    "\n",
    "with open(trainfile, 'rb') as af:\n",
    "    arffFile = arff.load(af)\n",
    "    # do not include college gpa, college credits and subject number\n",
    "    features = [arffFile['attributes'][1:-3][i][0].encode(\"ascii\") for i in range(len(arffFile['attributes'][1:-3]))]\n",
    "    data = arffFile['data']\n",
    "    for row in data:\n",
    "        row[1] = gender[row[1]] # index of gender\n",
    "        row[13] = language[row[13]] # index of language\n",
    "        x_trainSubnum.append(row[0]) # sepporate subject number\n",
    "        x_train.append(row[1:-3]) # do not include number of credits taken first year\n",
    "        y_train.append(row[-1])\n",
    "        \n",
    "print 'Number of examples:', len(x_train)\n",
    "print 'Features: ', features"
   ]
  },
  {
   "cell_type": "markdown",
   "metadata": {},
   "source": [
    "# Fit RandomForests"
   ]
  },
  {
   "cell_type": "code",
   "execution_count": 3,
   "metadata": {
    "collapsed": false
   },
   "outputs": [
    {
     "name": "stdout",
     "output_type": "stream",
     "text": [
      "ExtraTreesClassifier(bootstrap=False, class_weight=None, criterion='gini',\n",
      "           max_depth=None, max_features='auto', max_leaf_nodes=None,\n",
      "           min_samples_leaf=1, min_samples_split=2,\n",
      "           min_weight_fraction_leaf=0.0, n_estimators=1000, n_jobs=1,\n",
      "           oob_score=False, random_state=None, verbose=0, warm_start=False)\n",
      "Wall time: 3.19 s\n"
     ]
    }
   ],
   "source": [
    "%%time\n",
    "rfc = ExtraTreesClassifier(n_estimators=1000)\n",
    "rfc.fit(x_train, y_train)\n",
    "print rfc"
   ]
  },
  {
   "cell_type": "markdown",
   "metadata": {},
   "source": [
    "# Evaluate on Test Set"
   ]
  },
  {
   "cell_type": "code",
   "execution_count": 4,
   "metadata": {
    "collapsed": false
   },
   "outputs": [
    {
     "name": "stdout",
     "output_type": "stream",
     "text": [
      "Number of examples: 247\n",
      "Wall time: 10 ms\n"
     ]
    }
   ],
   "source": [
    "%%time\n",
    "testfile = 'sample_data\\\\test_subj_norm.arff'\n",
    "\n",
    "x_test = []\n",
    "x_testSubnum = []\n",
    "y_test = []\n",
    "\n",
    "with open(testfile, 'rb') as af:\n",
    "    arffFile = arff.load(af)\n",
    "    # do not include college gpa, college credits and subject number\n",
    "    data = arffFile['data']\n",
    "    for row in data:\n",
    "        row[1] = gender[row[1]] # index of gender\n",
    "        row[13] = language[row[13]] # index of language\n",
    "        x_testSubnum.append(row[0]) # sepporate subject number\n",
    "        x_test.append(row[1:-3]) # do not include number of credits taken first year\n",
    "        y_test.append(row[-1])\n",
    "        \n",
    "print 'Number of examples:', len(x_test)"
   ]
  },
  {
   "cell_type": "code",
   "execution_count": 5,
   "metadata": {
    "collapsed": false
   },
   "outputs": [
    {
     "name": "stdout",
     "output_type": "stream",
     "text": [
      "Correctly Classified: 206\n",
      "Incorrectly Classified: 41\n",
      "Correct: 0.834008\n",
      "Error: 0.165992\n",
      "====Incorrect Subjects====\n",
      "Incorrect Sub. 48, Prediction: [u'0'], Correct Label: 1\n",
      "Incorrect Sub. 121, Prediction: [u'0'], Correct Label: 1\n",
      "Incorrect Sub. 122, Prediction: [u'2'], Correct Label: 1\n",
      "Incorrect Sub. 124, Prediction: [u'0'], Correct Label: 1\n",
      "Incorrect Sub. 152, Prediction: [u'2'], Correct Label: 1\n",
      "Incorrect Sub. 169, Prediction: [u'3'], Correct Label: 1\n",
      "Incorrect Sub. 185, Prediction: [u'0'], Correct Label: 1\n",
      "Incorrect Sub. 191, Prediction: [u'4'], Correct Label: 1\n",
      "Incorrect Sub. 296, Prediction: [u'1'], Correct Label: 0\n",
      "Incorrect Sub. 329, Prediction: [u'4'], Correct Label: 0\n",
      "Incorrect Sub. 354, Prediction: [u'2'], Correct Label: 0\n",
      "Incorrect Sub. 397, Prediction: [u'4'], Correct Label: 0\n",
      "Incorrect Sub. 405, Prediction: [u'2'], Correct Label: 0\n",
      "Incorrect Sub. 432, Prediction: [u'2'], Correct Label: 0\n",
      "Incorrect Sub. 501, Prediction: [u'2'], Correct Label: 0\n",
      "Incorrect Sub. 591, Prediction: [u'4'], Correct Label: 3\n",
      "Incorrect Sub. 599, Prediction: [u'2'], Correct Label: 3\n",
      "Incorrect Sub. 616, Prediction: [u'1'], Correct Label: 3\n",
      "Incorrect Sub. 634, Prediction: [u'1'], Correct Label: 3\n",
      "Incorrect Sub. 656, Prediction: [u'0'], Correct Label: 3\n",
      "Incorrect Sub. 661, Prediction: [u'1'], Correct Label: 3\n",
      "Incorrect Sub. 662, Prediction: [u'0'], Correct Label: 3\n",
      "Incorrect Sub. 698, Prediction: [u'2'], Correct Label: 3\n",
      "Incorrect Sub. 726, Prediction: [u'1'], Correct Label: 3\n",
      "Incorrect Sub. 727, Prediction: [u'0'], Correct Label: 3\n",
      "Incorrect Sub. 741, Prediction: [u'2'], Correct Label: 3\n",
      "Incorrect Sub. 777, Prediction: [u'1'], Correct Label: 3\n",
      "Incorrect Sub. 1614, Prediction: [u'3'], Correct Label: 2\n",
      "Incorrect Sub. 1621, Prediction: [u'4'], Correct Label: 2\n",
      "Incorrect Sub. 1652, Prediction: [u'0'], Correct Label: 2\n",
      "Incorrect Sub. 1680, Prediction: [u'4'], Correct Label: 2\n",
      "Incorrect Sub. 1701, Prediction: [u'0'], Correct Label: 2\n",
      "Incorrect Sub. 1744, Prediction: [u'4'], Correct Label: 2\n",
      "Incorrect Sub. 1804, Prediction: [u'4'], Correct Label: 2\n",
      "Incorrect Sub. 1830, Prediction: [u'0'], Correct Label: 2\n",
      "Incorrect Sub. 1837, Prediction: [u'0'], Correct Label: 2\n",
      "Incorrect Sub. 1716, Prediction: [u'0'], Correct Label: 4\n",
      "Incorrect Sub. 1732, Prediction: [u'3'], Correct Label: 4\n",
      "Incorrect Sub. 1759, Prediction: [u'0'], Correct Label: 4\n",
      "Incorrect Sub. 1779, Prediction: [u'0'], Correct Label: 4\n",
      "Incorrect Sub. 1782, Prediction: [u'3'], Correct Label: 4\n",
      "==========================\n",
      "Wall time: 11.1 s\n"
     ]
    }
   ],
   "source": [
    "%%time\n",
    "numCorrect = 0\n",
    "numIncorrect = 0\n",
    "incorrectList = []\n",
    "testCount = len(x_test)\n",
    "for index in range(testCount):\n",
    "    x = x_test[index]\n",
    "    prediction = rfc.predict(x)\n",
    "    if prediction == y_test[index]:\n",
    "        numCorrect += 1\n",
    "    else:\n",
    "        numIncorrect += 1\n",
    "        incorrectList.append((x_testSubnum[index], prediction, y_test[index]))\n",
    "print 'Correctly Classified:', numCorrect\n",
    "print 'Incorrectly Classified:', numIncorrect\n",
    "print 'Correct: %f' % (float(numCorrect) / float(testCount))\n",
    "print 'Error: %f' % (1 - float(numCorrect) / float(testCount))\n",
    "print '====Incorrect Subjects===='\n",
    "# Print incorrect examples\n",
    "for x in incorrectList:\n",
    "    print 'Incorrect Sub. %d, Prediction: %s, Correct Label: %s' % (x)\n",
    "print '=========================='"
   ]
  },
  {
   "cell_type": "code",
   "execution_count": null,
   "metadata": {
    "collapsed": false
   },
   "outputs": [],
   "source": []
  },
  {
   "cell_type": "code",
   "execution_count": null,
   "metadata": {
    "collapsed": true
   },
   "outputs": [],
   "source": []
  }
 ],
 "metadata": {
  "kernelspec": {
   "display_name": "Python 2",
   "language": "python",
   "name": "python2"
  },
  "language_info": {
   "codemirror_mode": {
    "name": "ipython",
    "version": 2
   },
   "file_extension": ".py",
   "mimetype": "text/x-python",
   "name": "python",
   "nbconvert_exporter": "python",
   "pygments_lexer": "ipython2",
   "version": "2.7.6"
  }
 },
 "nbformat": 4,
 "nbformat_minor": 0
}
